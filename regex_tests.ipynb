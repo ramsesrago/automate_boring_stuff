{
  "nbformat": 4,
  "nbformat_minor": 0,
  "metadata": {
    "colab": {
      "name": "regex_tests.ipynb",
      "provenance": [],
      "collapsed_sections": [],
      "authorship_tag": "ABX9TyMQUZCghEkkauOuTnJZ5XNG",
      "include_colab_link": true
    },
    "kernelspec": {
      "name": "python3",
      "display_name": "Python 3"
    }
  },
  "cells": [
    {
      "cell_type": "markdown",
      "metadata": {
        "id": "view-in-github",
        "colab_type": "text"
      },
      "source": [
        "<a href=\"https://colab.research.google.com/github/ramsesrago/automate_boring_stuff/blob/master/regex_tests.ipynb\" target=\"_parent\"><img src=\"https://colab.research.google.com/assets/colab-badge.svg\" alt=\"Open In Colab\"/></a>"
      ]
    },
    {
      "cell_type": "markdown",
      "metadata": {
        "id": "srohFjH8Z81w",
        "colab_type": "text"
      },
      "source": [
        "# Regex"
      ]
    },
    {
      "cell_type": "markdown",
      "metadata": {
        "id": "ofj_kXjHaVT-",
        "colab_type": "text"
      },
      "source": [
        "## Range regex"
      ]
    },
    {
      "cell_type": "code",
      "metadata": {
        "id": "DuU7VNmCWGFZ",
        "colab_type": "code",
        "colab": {
          "base_uri": "https://localhost:8080/",
          "height": 34
        },
        "outputId": "1d814dde-4d0a-47d1-d08a-2e9f2aa3a6d5"
      },
      "source": [
        "# Testing range regex\n",
        "import re\n",
        "digitRegex = re.compile(r'(\\d){3,5}')   \n",
        "digitRegex.search('123456789')       "
      ],
      "execution_count": 2,
      "outputs": [
        {
          "output_type": "execute_result",
          "data": {
            "text/plain": [
              "<_sre.SRE_Match object; span=(0, 5), match='12345'>"
            ]
          },
          "metadata": {
            "tags": []
          },
          "execution_count": 2
        }
      ]
    },
    {
      "cell_type": "markdown",
      "metadata": {
        "id": "VUQ33YA1aaLK",
        "colab_type": "text"
      },
      "source": [
        "## Phone match regex"
      ]
    },
    {
      "cell_type": "code",
      "metadata": {
        "id": "3fF-wzJValoh",
        "colab_type": "code",
        "colab": {
          "base_uri": "https://localhost:8080/",
          "height": 34
        },
        "outputId": "e7885365-2f1e-4cda-c4ee-5ebe5524edd5"
      },
      "source": [
        "phoneRegex = re.compile(r'((\\d\\d\\d-)?\\d\\d\\d-\\d\\d\\d\\d(,)?){2}')\n",
        "phoneRegex.search('My number are: 734-955-7978,734-564-8888') "
      ],
      "execution_count": 5,
      "outputs": [
        {
          "output_type": "execute_result",
          "data": {
            "text/plain": [
              "<_sre.SRE_Match object; span=(15, 40), match='734-955-7978,734-564-8888'>"
            ]
          },
          "metadata": {
            "tags": []
          },
          "execution_count": 5
        }
      ]
    },
    {
      "cell_type": "markdown",
      "metadata": {
        "id": "elLGxNHqb7ke",
        "colab_type": "text"
      },
      "source": [
        "## Find all regex\n",
        "\\d Any numeric digit from 0 to 9<br/>\\D Any char that is NOT a numeric digit from 0 to 9\n",
        "<br/>range {min, max}\n",
        "<br/>? means 0 or 1\n",
        "<br/>* group matches zero or more times\n",
        "<br/>+ matches one or more times\n",
        "<br/>Adding a ? after {} does a nongreedy match\n",
        "<br/>^ does the opposite match"
      ]
    },
    {
      "cell_type": "code",
      "metadata": {
        "id": "YA2IKsxUcH6E",
        "colab_type": "code",
        "colab": {}
      },
      "source": [
        "import re\n",
        "lyrics = '12 drummer drummin, 11 pipers piping, 10 lords a leaping'\n",
        "xmasRegex = re.compile(r'\\d+\\s\\w+') # match one or more digits, one space and one word or more\n",
        "xmasRegex.findall(lyrics)\n",
        "consonantsRegex = re.compile(r'[^aeiouAEIOU]')\n",
        "consonantsRegex.findall(lyrics)"
      ],
      "execution_count": 0,
      "outputs": []
    }
  ]
}